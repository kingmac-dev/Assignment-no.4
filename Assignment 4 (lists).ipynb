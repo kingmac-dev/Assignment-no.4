{
 "cells": [
  {
   "cell_type": "markdown",
   "id": "c89f6ae7-aebe-47c7-aa0a-d98cdbb02908",
   "metadata": {},
   "source": [
    "# Assigment - 4 ( Lists)"
   ]
  },
  {
   "cell_type": "markdown",
   "id": "013f67ec-0044-4084-980f-f4db51734b6c",
   "metadata": {},
   "source": [
    "Q1. Create an empty list."
   ]
  },
  {
   "cell_type": "markdown",
   "id": "1b69c85d-6a10-40a1-8b67-676a27227510",
   "metadata": {},
   "source": [
    "Answer 1 )"
   ]
  },
  {
   "cell_type": "code",
   "execution_count": 1,
   "id": "5e377f7c-32a1-4540-b171-0d5befa23594",
   "metadata": {},
   "outputs": [],
   "source": [
    "my_list =[]"
   ]
  },
  {
   "cell_type": "markdown",
   "id": "b010d430-3d24-4d49-b8e5-b1d92edecb1b",
   "metadata": {},
   "source": [
    " Q2.Create a list and add an element to the end of this list."
   ]
  },
  {
   "cell_type": "markdown",
   "id": "e7dd6577-735a-4aa4-a1a6-df080f1ffa0f",
   "metadata": {},
   "source": [
    "Answer )  Let list be ;- my_list = [\"a\",\"b\",\"c\",\"PW\"] and end of this item would be = 'i'"
   ]
  },
  {
   "cell_type": "code",
   "execution_count": 16,
   "id": "aa1dd5c0-65f3-4830-ab00-3f31425177c4",
   "metadata": {},
   "outputs": [],
   "source": [
    "my_list = [\"a\",\"b\",\"c\",\"PW\"]"
   ]
  },
  {
   "cell_type": "code",
   "execution_count": 17,
   "id": "e3e6b2fd-3f2f-4c59-93e2-11c03f806a6f",
   "metadata": {},
   "outputs": [],
   "source": [
    "my_list.append('i')"
   ]
  },
  {
   "cell_type": "code",
   "execution_count": 18,
   "id": "89ff4b59-d849-4b5c-9ffa-77a4febcd13c",
   "metadata": {},
   "outputs": [
    {
     "name": "stdout",
     "output_type": "stream",
     "text": [
      "['a', 'b', 'c', 'PW', 'i']\n"
     ]
    }
   ],
   "source": [
    "print(my_list)"
   ]
  },
  {
   "cell_type": "markdown",
   "id": "e92a99ef-b2da-4bae-843a-67e517242f8a",
   "metadata": {},
   "source": [
    "Q3 .For the above created list print the last element."
   ]
  },
  {
   "cell_type": "code",
   "execution_count": 9,
   "id": "e4f0dcf0-6f1e-4188-ab8b-837eda57eba3",
   "metadata": {},
   "outputs": [
    {
     "name": "stdout",
     "output_type": "stream",
     "text": [
      "i\n"
     ]
    }
   ],
   "source": [
    "#answer 3:-\n",
    "print(my_list[-1])"
   ]
  },
  {
   "cell_type": "markdown",
   "id": "af7d5bcc-c99d-4ff0-99bb-6fac3003d2d6",
   "metadata": {},
   "source": [
    "Q4. Reverse the above created list."
   ]
  },
  {
   "cell_type": "code",
   "execution_count": 19,
   "id": "cd2e2be3-47a1-4b71-82c2-ab1b3dfef504",
   "metadata": {},
   "outputs": [],
   "source": [
    "#Answer 4 :-\n",
    "my_list = my_list[::-1]"
   ]
  },
  {
   "cell_type": "code",
   "execution_count": 20,
   "id": "5cc61d7e-a63f-4ef0-9960-3002611a9a38",
   "metadata": {},
   "outputs": [
    {
     "name": "stdout",
     "output_type": "stream",
     "text": [
      "['i', 'PW', 'c', 'b', 'a']\n"
     ]
    }
   ],
   "source": [
    "print(my_list)"
   ]
  },
  {
   "cell_type": "markdown",
   "id": "95d63ffc-42d4-43c3-99a6-c43850b861a2",
   "metadata": {},
   "source": [
    "Q5. Sort the above created list."
   ]
  },
  {
   "cell_type": "code",
   "execution_count": 31,
   "id": "d8a76443-b64b-4ce1-ae6f-4b180734d002",
   "metadata": {},
   "outputs": [],
   "source": [
    "#answer 5 :-\n",
    "my_list.sort(reverse=True) #for descending order"
   ]
  },
  {
   "cell_type": "code",
   "execution_count": 32,
   "id": "4d46a4be-a149-4bfb-963d-85be89d84343",
   "metadata": {},
   "outputs": [
    {
     "name": "stdout",
     "output_type": "stream",
     "text": [
      "['i', 'c', 'b', 'a', 'PW']\n"
     ]
    }
   ],
   "source": [
    "print(my_list)"
   ]
  },
  {
   "cell_type": "code",
   "execution_count": 33,
   "id": "54b7c65c-cd44-4420-868f-73a36dd0582b",
   "metadata": {},
   "outputs": [],
   "source": [
    "my_list.sort(reverse=False) #for ascending order."
   ]
  },
  {
   "cell_type": "code",
   "execution_count": 34,
   "id": "2b40ad33-a7c5-4d06-bb49-36e5a6ad61e5",
   "metadata": {},
   "outputs": [
    {
     "name": "stdout",
     "output_type": "stream",
     "text": [
      "['PW', 'a', 'b', 'c', 'i']\n"
     ]
    }
   ],
   "source": [
    "print(my_list)"
   ]
  },
  {
   "cell_type": "markdown",
   "id": "2373855b-bf09-4097-be91-d92d4be02e06",
   "metadata": {},
   "source": [
    "Q6 ) Create a list of your top three favorite movies, then print the second movie title."
   ]
  },
  {
   "cell_type": "code",
   "execution_count": 1,
   "id": "adef2ca7-3074-48c5-8f0e-e2362025e352",
   "metadata": {},
   "outputs": [],
   "source": [
    "M=[\"3 idiots\" ,\"Rocketry\" , \"Enemy at the Gates\"]"
   ]
  },
  {
   "cell_type": "code",
   "execution_count": 3,
   "id": "bae8b956-567f-4220-8b97-7b50dee4e2ed",
   "metadata": {},
   "outputs": [
    {
     "name": "stdout",
     "output_type": "stream",
     "text": [
      "Rocketry\n"
     ]
    }
   ],
   "source": [
    "print(M[1])"
   ]
  },
  {
   "cell_type": "markdown",
   "id": "a3f08e90-ca2e-49b1-a0b4-5e24f27c5352",
   "metadata": {},
   "source": [
    "Q7 ) Create a list of your favorite animals, then add a new animal to the list and print the updated list."
   ]
  },
  {
   "cell_type": "code",
   "execution_count": 4,
   "id": "c58b736c-6a5c-4fe7-b849-54faeded361b",
   "metadata": {},
   "outputs": [],
   "source": [
    "A=[\"lion\",\"giraffe\",\"elephant\"]"
   ]
  },
  {
   "cell_type": "code",
   "execution_count": 5,
   "id": "79806927-18c1-4a9d-a662-18794166b791",
   "metadata": {},
   "outputs": [],
   "source": [
    "A.append(\"tiger\")"
   ]
  },
  {
   "cell_type": "code",
   "execution_count": 6,
   "id": "338206df-d618-4c2c-821a-d40a5938be67",
   "metadata": {},
   "outputs": [
    {
     "data": {
      "text/plain": [
       "['lion', 'giraffe', 'elephant', 'tiger']"
      ]
     },
     "execution_count": 6,
     "metadata": {},
     "output_type": "execute_result"
    }
   ],
   "source": [
    "A"
   ]
  },
  {
   "cell_type": "markdown",
   "id": "d34d9bea-7617-4791-b0b5-aaf0ccf88f47",
   "metadata": {},
   "source": [
    "Q8. Create a list of your favorite cities, then use the index() method to find the position of a specific city\n",
    "on the list and print it."
   ]
  },
  {
   "cell_type": "code",
   "execution_count": 7,
   "id": "23f994ea-2657-4f63-8fff-240589ccb315",
   "metadata": {},
   "outputs": [],
   "source": [
    "#Answer 8 :-\n",
    "Favorite_cities = [\"Banglore\",\"Delhi\",\"Kashmir\",\"Patiala\"]"
   ]
  },
  {
   "cell_type": "code",
   "execution_count": 8,
   "id": "8a02ae65-0c8c-4211-b9fd-79915bafcc53",
   "metadata": {},
   "outputs": [],
   "source": [
    "index=Favorite_cities.index(\"Delhi\")"
   ]
  },
  {
   "cell_type": "code",
   "execution_count": 10,
   "id": "99753d73-4593-4a7f-a9a4-d58826838bf8",
   "metadata": {},
   "outputs": [
    {
     "name": "stdout",
     "output_type": "stream",
     "text": [
      "1\n"
     ]
    }
   ],
   "source": [
    "print(index)"
   ]
  }
 ],
 "metadata": {
  "kernelspec": {
   "display_name": "Python 3 (ipykernel)",
   "language": "python",
   "name": "python3"
  },
  "language_info": {
   "codemirror_mode": {
    "name": "ipython",
    "version": 3
   },
   "file_extension": ".py",
   "mimetype": "text/x-python",
   "name": "python",
   "nbconvert_exporter": "python",
   "pygments_lexer": "ipython3",
   "version": "3.10.8"
  }
 },
 "nbformat": 4,
 "nbformat_minor": 5
}
